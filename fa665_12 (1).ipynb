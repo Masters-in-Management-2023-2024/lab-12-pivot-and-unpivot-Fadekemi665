{
  "nbformat": 4,
  "nbformat_minor": 0,
  "metadata": {
    "colab": {
      "provenance": []
    },
    "kernelspec": {
      "name": "python3",
      "display_name": "Python 3"
    },
    "language_info": {
      "name": "python"
    }
  },
  "cells": [
    {
      "cell_type": "code",
      "execution_count": null,
      "metadata": {
        "id": "arz2le8oCvRb"
      },
      "outputs": [],
      "source": [
        "# Import required packages\n",
        "import polars as pl"
      ]
    },
    {
      "cell_type": "code",
      "source": [
        "#Question 1a\n",
        "\n",
        "# Load economics_long data\n",
        "economics_long = pl.read_csv(\n",
        "    \"https://raw.githubusercontent.com/philhetzel/opan5510-class12/refs/heads/main/data/economics_long.csv\"\n",
        ")\n",
        "\n",
        "# Pivot the data: index='date', columns='variable', values='value'\n",
        "economics_wide = economics_long.pivot(\n",
        "    values=\"value\",\n",
        "    index=\"date\",\n",
        "    columns=\"variable\"\n",
        ")\n",
        "\n",
        "# Display the pivoted dataframe\n",
        "print(economics_wide)"
      ],
      "metadata": {
        "colab": {
          "base_uri": "https://localhost:8080/"
        },
        "id": "YnwhP6KGF2tY",
        "outputId": "d9d00cb6-312d-429a-8f56-10b7d2cd7c28"
      },
      "execution_count": null,
      "outputs": [
        {
          "output_type": "stream",
          "name": "stdout",
          "text": [
            "shape: (574, 6)\n",
            "┌────────────┬─────────┬────────────┬─────────┬─────────┬──────────┐\n",
            "│ date       ┆ pce     ┆ pop        ┆ psavert ┆ uempmed ┆ unemploy │\n",
            "│ ---        ┆ ---     ┆ ---        ┆ ---     ┆ ---     ┆ ---      │\n",
            "│ str        ┆ f64     ┆ f64        ┆ f64     ┆ f64     ┆ f64      │\n",
            "╞════════════╪═════════╪════════════╪═════════╪═════════╪══════════╡\n",
            "│ 1967-07-01 ┆ 506.7   ┆ 198712.0   ┆ 12.6    ┆ 4.5     ┆ 2944.0   │\n",
            "│ 1967-08-01 ┆ 509.8   ┆ 198911.0   ┆ 12.6    ┆ 4.7     ┆ 2945.0   │\n",
            "│ 1967-09-01 ┆ 515.6   ┆ 199113.0   ┆ 11.9    ┆ 4.6     ┆ 2958.0   │\n",
            "│ 1967-10-01 ┆ 512.2   ┆ 199311.0   ┆ 12.9    ┆ 4.9     ┆ 3143.0   │\n",
            "│ 1967-11-01 ┆ 517.4   ┆ 199498.0   ┆ 12.8    ┆ 4.7     ┆ 3066.0   │\n",
            "│ …          ┆ …       ┆ …          ┆ …       ┆ …       ┆ …        │\n",
            "│ 2014-12-01 ┆ 12062.0 ┆ 319746.157 ┆ 7.6     ┆ 12.9    ┆ 8717.0   │\n",
            "│ 2015-01-01 ┆ 12046.0 ┆ 319928.646 ┆ 7.7     ┆ 13.2    ┆ 8903.0   │\n",
            "│ 2015-02-01 ┆ 12082.4 ┆ 320074.511 ┆ 7.9     ┆ 12.9    ┆ 8610.0   │\n",
            "│ 2015-03-01 ┆ 12158.3 ┆ 320230.786 ┆ 7.4     ┆ 12.0    ┆ 8504.0   │\n",
            "│ 2015-04-01 ┆ 12193.8 ┆ 320402.295 ┆ 7.6     ┆ 11.5    ┆ 8526.0   │\n",
            "└────────────┴─────────┴────────────┴─────────┴─────────┴──────────┘\n"
          ]
        },
        {
          "output_type": "stream",
          "name": "stderr",
          "text": [
            "/tmp/ipython-input-4097182409.py:9: DeprecationWarning: The argument `columns` for `DataFrame.pivot` is deprecated. It has been renamed to `on`.\n",
            "  economics_wide = economics_long.pivot(\n"
          ]
        }
      ]
    },
    {
      "cell_type": "code",
      "source": [
        "#Question 1b\n",
        "\n",
        "# Filter for dates >= '2010-01-01' and calculate median of 'unemploy'\n",
        "median_unemploy = (\n",
        "    economics_wide\n",
        "    .filter(pl.col(\"date\") >= \"2010-01-01\")\n",
        "    .select(pl.col(\"unemploy\").median())\n",
        "    .item()\n",
        ")\n",
        "\n",
        "print(f\"The median unemployment for 2010-01-01 and beyond is: {median_unemploy}\")"
      ],
      "metadata": {
        "colab": {
          "base_uri": "https://localhost:8080/"
        },
        "id": "Tpvy8KukHTYC",
        "outputId": "4a53414f-e1bd-457f-9bd7-b9163d739d52"
      },
      "execution_count": null,
      "outputs": [
        {
          "output_type": "stream",
          "name": "stdout",
          "text": [
            "The median unemployment for 2010-01-01 and beyond is: 12471.0\n"
          ]
        }
      ]
    },
    {
      "cell_type": "code",
      "source": [
        "#Question 2a\n",
        "\n",
        "# Load AirPassengers data (tab-separated)\n",
        "air_passengers = pl.read_csv(\n",
        "    \"https://raw.githubusercontent.com/philhetzel/opan5510-class12/refs/heads/main/data/AirPassengers.txt\",\n",
        "    separator=\"\\t\"\n",
        ")\n",
        "\n",
        "# Display original structure\n",
        "print(\"Original data shape:\", air_passengers.shape)\n",
        "print(\"\\nFirst few rows:\")\n",
        "print(air_passengers.head())\n",
        "\n",
        "# Unpivot the data: keep 'Year', unpivot month columns\n",
        "air_passengers_long = air_passengers.unpivot(\n",
        "    index=\"Year\",\n",
        "    on=air_passengers.columns[1:],   # all columns except 'Year' are months\n",
        "    variable_name=\"Month\",\n",
        "    value_name=\"Passengers\"\n",
        ")\n",
        "\n",
        "# Display the unpivoted dataframe\n",
        "print(\"\\nUnpivoted data shape:\", air_passengers_long.shape)\n",
        "print(air_passengers_long.head(12))"
      ],
      "metadata": {
        "colab": {
          "base_uri": "https://localhost:8080/"
        },
        "id": "v1j7s2MiH135",
        "outputId": "78afb5d1-a361-44bf-f3d2-28062125fac3"
      },
      "execution_count": null,
      "outputs": [
        {
          "output_type": "stream",
          "name": "stdout",
          "text": [
            "Original data shape: (12, 13)\n",
            "\n",
            "First few rows:\n",
            "shape: (5, 13)\n",
            "┌──────┬─────┬─────┬─────┬───┬─────┬─────┬─────┬─────┐\n",
            "│ Year ┆ Jan ┆ Feb ┆ Mar ┆ … ┆ Sep ┆ Oct ┆ Nov ┆ Dec │\n",
            "│ ---  ┆ --- ┆ --- ┆ --- ┆   ┆ --- ┆ --- ┆ --- ┆ --- │\n",
            "│ i64  ┆ i64 ┆ i64 ┆ i64 ┆   ┆ i64 ┆ i64 ┆ i64 ┆ i64 │\n",
            "╞══════╪═════╪═════╪═════╪═══╪═════╪═════╪═════╪═════╡\n",
            "│ 1949 ┆ 112 ┆ 118 ┆ 132 ┆ … ┆ 136 ┆ 119 ┆ 104 ┆ 118 │\n",
            "│ 1950 ┆ 115 ┆ 126 ┆ 141 ┆ … ┆ 158 ┆ 133 ┆ 114 ┆ 140 │\n",
            "│ 1951 ┆ 145 ┆ 150 ┆ 178 ┆ … ┆ 184 ┆ 162 ┆ 146 ┆ 166 │\n",
            "│ 1952 ┆ 171 ┆ 180 ┆ 193 ┆ … ┆ 209 ┆ 191 ┆ 172 ┆ 194 │\n",
            "│ 1953 ┆ 196 ┆ 196 ┆ 236 ┆ … ┆ 237 ┆ 211 ┆ 180 ┆ 201 │\n",
            "└──────┴─────┴─────┴─────┴───┴─────┴─────┴─────┴─────┘\n",
            "\n",
            "Unpivoted data shape: (144, 3)\n",
            "shape: (12, 3)\n",
            "┌──────┬───────┬────────────┐\n",
            "│ Year ┆ Month ┆ Passengers │\n",
            "│ ---  ┆ ---   ┆ ---        │\n",
            "│ i64  ┆ str   ┆ i64        │\n",
            "╞══════╪═══════╪════════════╡\n",
            "│ 1949 ┆ Jan   ┆ 112        │\n",
            "│ 1950 ┆ Jan   ┆ 115        │\n",
            "│ 1951 ┆ Jan   ┆ 145        │\n",
            "│ 1952 ┆ Jan   ┆ 171        │\n",
            "│ 1953 ┆ Jan   ┆ 196        │\n",
            "│ …    ┆ …     ┆ …          │\n",
            "│ 1956 ┆ Jan   ┆ 284        │\n",
            "│ 1957 ┆ Jan   ┆ 315        │\n",
            "│ 1958 ┆ Jan   ┆ 340        │\n",
            "│ 1959 ┆ Jan   ┆ 360        │\n",
            "│ 1960 ┆ Jan   ┆ 417        │\n",
            "└──────┴───────┴────────────┘\n"
          ]
        }
      ]
    },
    {
      "cell_type": "code",
      "source": [
        "#Question 2b\n",
        "\n",
        "# Filter for years 1955–1960 and calculate standard deviation\n",
        "std_passengers = (\n",
        "    air_passengers_long\n",
        "    .filter((pl.col(\"Year\") >= 1955) & (pl.col(\"Year\") <= 1960))\n",
        "    .select(pl.col(\"Passengers\").std())\n",
        "    .item()\n",
        ")\n",
        "\n",
        "print(f\"The standard deviation of airline passengers between 1955 and 1960 is: {std_passengers:.2f}\")"
      ],
      "metadata": {
        "colab": {
          "base_uri": "https://localhost:8080/"
        },
        "id": "nYrEE4MmKVU6",
        "outputId": "7fa455e3-f92a-49cc-84b8-4ed660f413ca"
      },
      "execution_count": null,
      "outputs": [
        {
          "output_type": "stream",
          "name": "stdout",
          "text": [
            "The standard deviation of airline passengers between 1955 and 1960 is: 86.44\n"
          ]
        }
      ]
    },
    {
      "cell_type": "code",
      "source": [
        "#Question 3a\n",
        "# Load table2 data\n",
        "table2 = pl.read_csv(\n",
        "    \"https://raw.githubusercontent.com/philhetzel/opan5510-class12/refs/heads/main/data/table2.csv\"\n",
        ")\n",
        "\n",
        "# Display original structure\n",
        "print(\"Original data:\")\n",
        "print(table2)\n",
        "\n",
        "# Pivot the data: 'type' values (cases, population) become new columns\n",
        "table2_wide = table2.pivot(\n",
        "    values=\"count\",\n",
        "    index=[\"country\", \"year\"],\n",
        "    columns=\"type\"\n",
        ")\n",
        "\n",
        "# Display the pivoted dataframe\n",
        "print(\"\\nPivoted data:\")\n",
        "print(table2_wide)"
      ],
      "metadata": {
        "colab": {
          "base_uri": "https://localhost:8080/"
        },
        "id": "iYW1dLo5LTF2",
        "outputId": "1e727d57-738b-4be4-aa3a-939e88b93c74"
      },
      "execution_count": null,
      "outputs": [
        {
          "output_type": "stream",
          "name": "stdout",
          "text": [
            "Original data:\n",
            "shape: (12, 5)\n",
            "┌──────────┬─────────────┬──────┬────────────┬────────────┐\n",
            "│ rownames ┆ country     ┆ year ┆ type       ┆ count      │\n",
            "│ ---      ┆ ---         ┆ ---  ┆ ---        ┆ ---        │\n",
            "│ i64      ┆ str         ┆ i64  ┆ str        ┆ i64        │\n",
            "╞══════════╪═════════════╪══════╪════════════╪════════════╡\n",
            "│ 1        ┆ Afghanistan ┆ 1999 ┆ cases      ┆ 745        │\n",
            "│ 2        ┆ Afghanistan ┆ 1999 ┆ population ┆ 19987071   │\n",
            "│ 3        ┆ Afghanistan ┆ 2000 ┆ cases      ┆ 2666       │\n",
            "│ 4        ┆ Afghanistan ┆ 2000 ┆ population ┆ 20595360   │\n",
            "│ 5        ┆ Brazil      ┆ 1999 ┆ cases      ┆ 37737      │\n",
            "│ …        ┆ …           ┆ …    ┆ …          ┆ …          │\n",
            "│ 8        ┆ Brazil      ┆ 2000 ┆ population ┆ 174504898  │\n",
            "│ 9        ┆ China       ┆ 1999 ┆ cases      ┆ 212258     │\n",
            "│ 10       ┆ China       ┆ 1999 ┆ population ┆ 1272915272 │\n",
            "│ 11       ┆ China       ┆ 2000 ┆ cases      ┆ 213766     │\n",
            "│ 12       ┆ China       ┆ 2000 ┆ population ┆ 1280428583 │\n",
            "└──────────┴─────────────┴──────┴────────────┴────────────┘\n",
            "\n",
            "Pivoted data:\n",
            "shape: (6, 4)\n",
            "┌─────────────┬──────┬────────┬────────────┐\n",
            "│ country     ┆ year ┆ cases  ┆ population │\n",
            "│ ---         ┆ ---  ┆ ---    ┆ ---        │\n",
            "│ str         ┆ i64  ┆ i64    ┆ i64        │\n",
            "╞═════════════╪══════╪════════╪════════════╡\n",
            "│ Afghanistan ┆ 1999 ┆ 745    ┆ 19987071   │\n",
            "│ Afghanistan ┆ 2000 ┆ 2666   ┆ 20595360   │\n",
            "│ Brazil      ┆ 1999 ┆ 37737  ┆ 172006362  │\n",
            "│ Brazil      ┆ 2000 ┆ 80488  ┆ 174504898  │\n",
            "│ China       ┆ 1999 ┆ 212258 ┆ 1272915272 │\n",
            "│ China       ┆ 2000 ┆ 213766 ┆ 1280428583 │\n",
            "└─────────────┴──────┴────────┴────────────┘\n"
          ]
        },
        {
          "output_type": "stream",
          "name": "stderr",
          "text": [
            "/tmp/ipython-input-2662010797.py:11: DeprecationWarning: The argument `columns` for `DataFrame.pivot` is deprecated. It has been renamed to `on`.\n",
            "  table2_wide = table2.pivot(\n"
          ]
        }
      ]
    },
    {
      "cell_type": "code",
      "source": [
        "#Question 3b\n",
        "#Adding a 'ratio' column (cases / population)\n",
        "table2_with_ratio = table2_wide.with_columns(\n",
        "    (pl.col(\"cases\") / pl.col(\"population\")).alias(\"ratio\")\n",
        ")\n",
        "\n",
        "#Filter for year 1999\n",
        "year_1999 = table2_with_ratio.filter(pl.col(\"year\") == 1999)\n",
        "\n",
        "#Find the country with the highest ratio\n",
        "highest_ratio_country = (\n",
        "    year_1999.sort(\"ratio\", descending=True)\n",
        "    .select(\"country\")\n",
        "    .item()\n",
        ")\n",
        "\n",
        "print(\"Data for 1999 with ratios:\")\n",
        "print(year_1999)\n",
        "\n",
        "print(f\"\\nThe country with the highest cases/population ratio in 1999 is: {highest_ratio_country}\")"
      ],
      "metadata": {
        "id": "YTCT9aoDLbL1"
      },
      "execution_count": null,
      "outputs": []
    }
  ]
}